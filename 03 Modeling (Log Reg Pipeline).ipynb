{
 "cells": [
  {
   "cell_type": "markdown",
   "metadata": {
    "application/vnd.databricks.v1+cell": {
     "cellMetadata": {},
     "inputWidgets": {},
     "nuid": "7ac4117d-644c-40b1-ad1e-f4ea0caf4deb",
     "showTitle": false,
     "title": ""
    }
   },
   "source": [
    "# Logistic Regression with pipeline"
   ]
  },
  {
   "cell_type": "markdown",
   "metadata": {
    "application/vnd.databricks.v1+cell": {
     "cellMetadata": {},
     "inputWidgets": {},
     "nuid": "8cfe667c-1711-4b0e-bf70-0cb70db0e5c7",
     "showTitle": false,
     "title": ""
    }
   },
   "source": [
    "## Import packages"
   ]
  },
  {
   "cell_type": "code",
   "execution_count": 0,
   "metadata": {
    "application/vnd.databricks.v1+cell": {
     "cellMetadata": {},
     "inputWidgets": {},
     "nuid": "60a60838-df8e-449e-b7d1-35b3451fbae0",
     "showTitle": false,
     "title": ""
    }
   },
   "outputs": [],
   "source": [
    "from databricks.automl_runtime.sklearn.column_selector import ColumnSelector\n",
    "from sklearn.preprocessing import FunctionTransformer\n",
    "from sklearn.pipeline import Pipeline\n",
    "from sklearn.compose import ColumnTransformer\n",
    "from sklearn.model_selection import train_test_split\n",
    "from sklearn.metrics import recall_score, confusion_matrix, roc_auc_score\n",
    "from sklearn.feature_selection import RFE\n",
    "from sklearn.linear_model import LogisticRegression\n",
    "from hyperopt import hp, tpe, fmin, STATUS_OK, Trials, SparkTrials\n",
    "from optbinning import BinningProcess, OptimalBinning\n",
    "from shap import KernelExplainer, summary_plot\n",
    "from statsmodels.stats.outliers_influence import variance_inflation_factor as vif\n",
    "\n",
    "import seaborn as sns\n",
    "import matplotlib.pyplot as plt\n",
    "import pandas as pd\n",
    "import numpy as np\n",
    "import shap\n",
    "import joblib"
   ]
  },
  {
   "cell_type": "markdown",
   "metadata": {
    "application/vnd.databricks.v1+cell": {
     "cellMetadata": {},
     "inputWidgets": {},
     "nuid": "ff40b691-c290-4489-b279-529c0ca8677f",
     "showTitle": false,
     "title": ""
    }
   },
   "source": [
    "## User-defined functions\n",
    "Functions include:\n",
    "* `evaluateBinaryClassifier()`: returns KS score and decile of data.\n",
    "* `model_diagnostics()`: returns the confusion matrix and model scores (accuracy, precision, recall, etc.).\n",
    "* `psi_table()`: returns the population stability index of the in-time and OOT dataframes.\n",
    "* `best_features()`: returns the `n` selected best features.\n",
    "* `woe_map()`: returns the mapping of the binned variables."
   ]
  },
  {
   "cell_type": "code",
   "execution_count": 0,
   "metadata": {
    "application/vnd.databricks.v1+cell": {
     "cellMetadata": {},
     "inputWidgets": {},
     "nuid": "15faf853-b5a0-43ed-b923-6ccb3d7a4bbc",
     "showTitle": false,
     "title": ""
    }
   },
   "outputs": [],
   "source": [
    "def evaluateBinaryClassifier(predicted, actual, train_decile_reference, save=False, filename='validation.csv', setCutoff=False, new_data=False, probCutoff=0.5):\n",
    "    tmp = pd.DataFrame({\"probability\" : predicted.values, \"actual\" : actual.values})\n",
    "\n",
    "    if not new_data: tmp['bucket'] = pd.qcut(tmp['probability'], q=10, duplicates='drop')\n",
    "    else:\n",
    "        decile_bins, deciles = pd.qcut(train_decile_reference, 10, duplicates='drop', retbins=True)\n",
    "        tmp['bucket'] = pd.cut(tmp['probability'], bins=deciles, labels=range(len(deciles)-1, 0, -1), right=False)\n",
    "    \n",
    "    tmp = tmp.groupby('bucket', as_index=True)\n",
    "\n",
    "    tbl = pd.DataFrame()\n",
    "    tbl['min_prob'] = tmp.min().probability.apply('{0:.7f}'.format)\n",
    "    tbl['max_prob'] = tmp.max().probability.apply('{0:.7f}'.format)\n",
    "    tbl['bad'] = tmp.sum().actual\n",
    "    tbl['good'] = tmp.count().actual - tmp.sum().actual\n",
    "    tbl['total'] = tmp.count().actual\n",
    "    tbl = tbl.sort_values(by='min_prob', ascending=False).reset_index(drop=True)\n",
    "    \n",
    "    tbl['odds'] = (tbl['bad']/tbl['good']).apply('{0:.2f}'.format)\n",
    "    tbl['bad_rate'] = (tbl['bad']/tbl['total']).apply('{0:.2f}'.format)\n",
    "    tbl['ks'] = (np.round(((tbl['bad']/tbl['bad'].sum()).cumsum() - (tbl['good']/tbl['good'].sum()).cumsum()), 4)*100)\n",
    "    \n",
    "    tbl['max_ks'] = tbl.ks.apply(lambda x: \"***\" if x == tbl.ks.max() else \"\")\n",
    "    maxdecile = tbl.reset_index().loc[tbl['ks'].idxmax()]\n",
    "\n",
    "    if save: tbl.to_csv(filename)\n",
    "    \n",
    "    if not setCutoff:\n",
    "        cutoff = float(tbl.loc[tbl.ks==tbl.ks.max()]['min_prob'].values[0])\n",
    "        print(\"The recommended cutoff at decile\", int(maxdecile['index'])+1, \"is\", cutoff, \"with Kolmogorov-Smirnov Statistic equal to\", maxdecile['ks'], \"\\n\") \n",
    "        tbl.index +=1\n",
    "\n",
    "        return cutoff, pd.DataFrame(tbl)\n",
    "    \n",
    "    else: \n",
    "        cutoff = probCutoff \n",
    "        print(\"Evaluating at defined cutoff equal to: \", cutoff) \n",
    "        tbl.index += 1   \n",
    "        return pd.DataFrame(tbl)\n",
    "\n",
    "def model_diagnostics(predicted, actual, cutoff):\n",
    "    predicted = np.where(predicted >= cutoff, 1, 0)\n",
    "    actual = actual.values\n",
    "   \n",
    "    cm = confusion_matrix(actual, predicted)\n",
    "    tn, fp, fn, tp = cm.ravel()\n",
    "\n",
    "    accuracy = round((tp+tn)/(tp+tn+fp+fn), 5)\n",
    "    precision = round(tp/(tp+fp), 5)\n",
    "    recall = round(tp/(tp+fn), 5)\n",
    "    specificity = round(tn/(tn+fp), 5)\n",
    "    f1 = round((2*(precision*recall))/(precision+recall), 2) \n",
    "    roc = round(roc_auc_score(actual, predicted), 5)\n",
    "    gini = round(2*roc - 1, 5)\n",
    "    \n",
    "    metrics = {'accuracy' : accuracy, 'precision' : precision, 'recall' : recall, \n",
    "               'specificity' : specificity, 'f1' : f1, 'roc' : roc, 'gini' : gini}\n",
    "\n",
    "    return cm, metrics\n",
    "\n",
    "def psi_table(df1, df2):\n",
    "    distribution_change = []\n",
    "    psi_list = []\n",
    "\n",
    "    for col in df1.columns.tolist():\n",
    "        a = pd.DataFrame(df1[col].value_counts(normalize = True))\n",
    "        b = pd.DataFrame(df2[col].value_counts(normalize = True))\n",
    "        a.columns = ['a']\n",
    "        b.columns = ['b']\n",
    "        ab = a.join(b)\n",
    "        ab['diff'] =  ab.a - ab.b\n",
    "        ab['ln'] = np.log(ab.a/ab.b)\n",
    "        ab['psi'] = ab['diff'] * ab['ln']\n",
    "        psi = ab['psi'].sum()\n",
    "        psi_list.append(round(psi,5))\n",
    "\n",
    "        if psi < 0.1: distribution_change.append('No change')\n",
    "        elif 0.1 <= psi <= 0.25: distribution_change.append('Slight change')\n",
    "        else: distribution_change.append('Significant change')\n",
    "\n",
    "    return pd.DataFrame({\"columns\" : supported_cols, \"distribution change\" : distribution_change, \"psi\" : psi_list})\n",
    "\n",
    "def best_features(features, target, model, n_feats):\n",
    "    importantFeats = RFE(model, n_features_to_select=n_feats)\n",
    "    importantFeats = importantFeats.fit(features, target)\n",
    "\n",
    "    return pd.DataFrame({\"Feature\" : features.columns.tolist(), \"Important\" : importantFeats.support_})\n",
    "\n",
    "def woe_map(supported_cols, df, target_col):\n",
    "  map = {}\n",
    "  for variable in supported_cols:\n",
    "    x = df[variable]\n",
    "    y = df[target_col]\n",
    "\n",
    "    if  x.values.dtype == object:\n",
    "      data_type = 'categorical'\n",
    "      bin_splits = x.unique().reshape(-1,1)\n",
    "\n",
    "    else: \n",
    "      data_type = 'numerical'\n",
    "      bin_splits = None\n",
    "\n",
    "    optb = OptimalBinning(name = variable, dtype = data_type, monotonic_trend='descending', user_splits=bin_splits)\n",
    "    optb.fit(x.values, y)\n",
    "    binning_table = optb.binning_table\n",
    "    df_binningtable = pd.DataFrame(binning_table.build())\n",
    "    df_woe_table = df_binningtable[['Bin', 'WoE']].drop([len(df_binningtable['Bin'])-3,len(df_binningtable['Bin'])-2])\n",
    "\n",
    "    map.update({variable : df_woe_table})\n",
    "\n",
    "  return map"
   ]
  },
  {
   "cell_type": "markdown",
   "metadata": {
    "application/vnd.databricks.v1+cell": {
     "cellMetadata": {},
     "inputWidgets": {},
     "nuid": "88146098-7054-4a9e-aaed-05473bf47885",
     "showTitle": false,
     "title": ""
    }
   },
   "source": [
    "## Load data"
   ]
  },
  {
   "cell_type": "code",
   "execution_count": 0,
   "metadata": {
    "application/vnd.databricks.v1+cell": {
     "cellMetadata": {},
     "inputWidgets": {},
     "nuid": "f12646a8-9588-422d-aaa3-147c245c16c5",
     "showTitle": false,
     "title": ""
    }
   },
   "outputs": [],
   "source": [
    "df_loaded = spark.table('dsag_legacy_catalog.proj_pltodepo.aiml_fss_PL_final_02_modeling_base_imputed').toPandas()\n",
    "\n",
    "df_loaded"
   ]
  },
  {
   "cell_type": "markdown",
   "metadata": {
    "application/vnd.databricks.v1+cell": {
     "cellMetadata": {},
     "inputWidgets": {},
     "nuid": "2953a6b9-6d0f-4de6-b19f-0c453f1f89aa",
     "showTitle": false,
     "title": ""
    }
   },
   "source": [
    "## Select supported columns\n",
    "Features are reordered based on data type for readability. Features are also selected based on IV, percentage of missing entries \\\n",
    "(\\\\(\\approx\\\\)30%), number of unique entries (at least more than 1 for boolean or categorical data), and PSI.\n",
    "\n",
    "**Caveats:**\n",
    "* Columns `avg_ror_trans_l180d`, and `avg_ror_trans_l180d_bp` have ~ 36% missing entries but are imputed with 0.\n",
    "* Feature `tenure` and `age` have a significant change in terms of PSI between In-time and OOT."
   ]
  },
  {
   "cell_type": "code",
   "execution_count": 0,
   "metadata": {
    "application/vnd.databricks.v1+cell": {
     "cellMetadata": {},
     "inputWidgets": {},
     "nuid": "e4d284e7-b4f4-4fc4-812d-55eb52fe1efe",
     "showTitle": false,
     "title": ""
    }
   },
   "outputs": [],
   "source": [
    "target_col = \"dpd_31_ever\"\n",
    "\n",
    "bool_cols = ['with_depo_open', 'with_loan_ind',]\n",
    "category_cols = ['num_children', 'num_yrs_in_company']\n",
    "num_cols = ['balance_ytd', 'avg_ror_trans_l180d_bp', 'products_count', 'avg_ror_trans_l180d', 'avg_casa_adb_l180d', 'avg_casa_trans_l180d', ]\n",
    "\n",
    "supported_cols = bool_cols + category_cols + num_cols\n",
    "all_cols = [target_col] + supported_cols\n",
    "\n",
    "#removed_cols\n",
    "#bool_cols = ['with_loan_auto_ind', 'with_loan_home_ind', 'home_owned', ]\n",
    "#category_cols = ['lifestage', 'num_yrs_in_present_address',]\n",
    "#num_cols = ['age', 'tenure', ]\n",
    "\n",
    "col_selector = ColumnSelector(supported_cols)\n",
    "\n",
    "df_transformed = df_loaded[all_cols].copy()\n",
    "df_transformed[bool_cols] = df_transformed[bool_cols].astype(object)\n",
    "\n",
    "df_transformed"
   ]
  },
  {
   "cell_type": "code",
   "execution_count": 0,
   "metadata": {
    "application/vnd.databricks.v1+cell": {
     "cellMetadata": {},
     "inputWidgets": {},
     "nuid": "2ada8100-f3ae-466b-99da-2ee7af48782e",
     "showTitle": false,
     "title": ""
    }
   },
   "outputs": [],
   "source": [
    "df_transformed.dtypes"
   ]
  },
  {
   "cell_type": "markdown",
   "metadata": {
    "application/vnd.databricks.v1+cell": {
     "cellMetadata": {},
     "inputWidgets": {},
     "nuid": "76da266d-6b0a-461a-9cbf-2737a5caba5c",
     "showTitle": false,
     "title": ""
    }
   },
   "source": [
    "## Train-test set split\n",
    "Data is split into two parts:\n",
    "* `X_train` - (60%) for training the model.\n",
    "* `X_test` - (40%) for testing and prediction to compare with training set performance."
   ]
  },
  {
   "cell_type": "code",
   "execution_count": 0,
   "metadata": {
    "application/vnd.databricks.v1+cell": {
     "cellMetadata": {},
     "inputWidgets": {},
     "nuid": "a3a8ac1c-4d47-46cc-bff2-88159835e2f7",
     "showTitle": false,
     "title": ""
    }
   },
   "outputs": [],
   "source": [
    "features = df_transformed[supported_cols]\n",
    "target = df_transformed[target_col]\n",
    "\n",
    "testing_size = 0.4\n",
    "state = 0\n",
    "#3 best results\n",
    "\n",
    "X_train, X_test, y_train, y_test = train_test_split(features, target, test_size=testing_size, random_state=state, stratify=target)"
   ]
  },
  {
   "cell_type": "markdown",
   "metadata": {
    "application/vnd.databricks.v1+cell": {
     "cellMetadata": {},
     "inputWidgets": {},
     "nuid": "28fb4771-9fa8-4ef6-b127-cc965b2ba6ae",
     "showTitle": false,
     "title": ""
    }
   },
   "source": [
    "## Preprocessing\n",
    "\n",
    "Features are processed prior to modeling depending on data type."
   ]
  },
  {
   "cell_type": "markdown",
   "metadata": {
    "application/vnd.databricks.v1+cell": {
     "cellMetadata": {},
     "inputWidgets": {},
     "nuid": "ee19c7b7-953e-4ed5-b368-53e70441bed0",
     "showTitle": false,
     "title": ""
    }
   },
   "source": [
    "### Boolean columns\n",
    "Boolean features are binned and transformed in terms of WOE."
   ]
  },
  {
   "cell_type": "code",
   "execution_count": 0,
   "metadata": {
    "application/vnd.databricks.v1+cell": {
     "cellMetadata": {},
     "inputWidgets": {},
     "nuid": "9e86c439-b0f2-4d0d-bf63-bb4ace424eef",
     "showTitle": false,
     "title": ""
    }
   },
   "outputs": [],
   "source": [
    "bool_params = {}\n",
    "for col in bool_cols: bool_params.update({col : {\"user_splits\" : X_train[col].unique().reshape(-1,1)}})\n",
    "\n",
    "bool_binner = BinningProcess(bool_cols, binning_fit_params=bool_params)\n",
    "\n",
    "bool_pipeline = Pipeline([\n",
    "    # (\"cast_type\", FunctionTransformer(lambda df: df.astype(object))),\n",
    "    (\"binner_bool\", bool_binner),\n",
    "])\n",
    "\n",
    "bool_transformers = [(\"boolean\", bool_pipeline, bool_cols)]"
   ]
  },
  {
   "cell_type": "markdown",
   "metadata": {
    "application/vnd.databricks.v1+cell": {
     "cellMetadata": {},
     "inputWidgets": {},
     "nuid": "6fb71ab4-c33a-4723-a4ca-e37f0a0f469f",
     "showTitle": false,
     "title": ""
    }
   },
   "source": [
    "### Categorical columns\n",
    "Categorical features are binned and transformed in terms of WOE."
   ]
  },
  {
   "cell_type": "code",
   "execution_count": 0,
   "metadata": {
    "application/vnd.databricks.v1+cell": {
     "cellMetadata": {},
     "inputWidgets": {},
     "nuid": "0348fc0f-b962-47a9-9b80-065cd2eb9444",
     "showTitle": false,
     "title": ""
    }
   },
   "outputs": [],
   "source": [
    "category_params = {}\n",
    "for col in category_cols: category_params.update({col : {\"user_splits\" : X_train[col].unique().reshape(-1,1)}})\n",
    "\n",
    "category_binner = BinningProcess(category_cols, categorical_variables=category_cols, binning_fit_params=category_params)\n",
    "\n",
    "category_pipeline = Pipeline([\n",
    "    # (\"cast_type\", FunctionTransformer(lambda df: df.astype(object))),\n",
    "    (\"binner_cat\", category_binner)\n",
    "])\n",
    "\n",
    "category_transformers = [(\"categorical\", category_pipeline, category_cols)]"
   ]
  },
  {
   "cell_type": "markdown",
   "metadata": {
    "application/vnd.databricks.v1+cell": {
     "cellMetadata": {},
     "inputWidgets": {},
     "nuid": "9e9c6bd6-d5de-4c36-8e1a-b9cee723cc86",
     "showTitle": false,
     "title": ""
    }
   },
   "source": [
    "### Numerical columns\n",
    "Numerical features are binned and transformed in terms of WOE with forced descending monotonic bins."
   ]
  },
  {
   "cell_type": "code",
   "execution_count": 0,
   "metadata": {
    "application/vnd.databricks.v1+cell": {
     "cellMetadata": {},
     "inputWidgets": {},
     "nuid": "d7ccee36-6c1d-4664-8bdf-8a953942c3b7",
     "showTitle": false,
     "title": ""
    }
   },
   "outputs": [],
   "source": [
    "num_params = {}\n",
    "for col in num_cols: num_params.update({col : {\"monotonic_trend\" : \"descending\"}})\n",
    "\n",
    "num_binner = BinningProcess(num_cols, binning_fit_params=num_params)\n",
    "\n",
    "numerical_pipeline = Pipeline([\n",
    "    # (\"converter\", FunctionTransformer(lambda df: df.apply(pd.to_numeric, errors='coerce'))),\n",
    "    (\"binner_num\", num_binner)\n",
    "])\n",
    "\n",
    "numerical_transformers = [(\"numerical\", numerical_pipeline, num_cols)]"
   ]
  },
  {
   "cell_type": "markdown",
   "metadata": {
    "application/vnd.databricks.v1+cell": {
     "cellMetadata": {},
     "inputWidgets": {},
     "nuid": "e7f2f675-37a7-4d02-a727-861f923d2238",
     "showTitle": false,
     "title": ""
    }
   },
   "source": [
    "### Data transformation\n",
    "Data is transformed prior to splitting and training."
   ]
  },
  {
   "cell_type": "code",
   "execution_count": 0,
   "metadata": {
    "application/vnd.databricks.v1+cell": {
     "cellMetadata": {},
     "inputWidgets": {},
     "nuid": "50c7c926-3b59-4552-92de-1be203e918a9",
     "showTitle": false,
     "title": ""
    }
   },
   "outputs": [],
   "source": [
    "transformers = bool_transformers + category_transformers + numerical_transformers\n",
    "\n",
    "preprocessor = ColumnTransformer(transformers, remainder=\"passthrough\", sparse_threshold=0)\n",
    "\n",
    "pipeline_val = Pipeline([\n",
    "    (\"column_selector\", col_selector),\n",
    "    (\"preprocessor\", preprocessor)\n",
    "    ])\n",
    "\n",
    "pipeline_val.fit(X_train, y_train)"
   ]
  },
  {
   "cell_type": "markdown",
   "metadata": {
    "application/vnd.databricks.v1+cell": {
     "cellMetadata": {},
     "inputWidgets": {},
     "nuid": "81518d84-db96-4655-b7bc-bd3a5453b088",
     "showTitle": false,
     "title": ""
    }
   },
   "source": [
    "## Modeling"
   ]
  },
  {
   "cell_type": "markdown",
   "metadata": {
    "application/vnd.databricks.v1+cell": {
     "cellMetadata": {},
     "inputWidgets": {},
     "nuid": "30a6f839-9eff-4af4-af6a-f79ee7c1b093",
     "showTitle": false,
     "title": ""
    }
   },
   "source": [
    "### Parameters"
   ]
  },
  {
   "cell_type": "code",
   "execution_count": 0,
   "metadata": {
    "application/vnd.databricks.v1+cell": {
     "cellMetadata": {},
     "inputWidgets": {},
     "nuid": "b43f63f5-41ec-4537-b8d0-bdd99ca0b763",
     "showTitle": false,
     "title": ""
    }
   },
   "outputs": [],
   "source": [
    "log_reg_params = {'random_state' : state,\n",
    "                  'solver' : 'liblinear', # 'liblinear', 'lbfgs', \n",
    "                  'verbose' : 0,\n",
    "                  \"max_iter\" : 10000,\n",
    "                  }"
   ]
  },
  {
   "cell_type": "markdown",
   "metadata": {
    "application/vnd.databricks.v1+cell": {
     "cellMetadata": {},
     "inputWidgets": {},
     "nuid": "904ec633-d2f0-4290-b9ee-fa7f40b06181",
     "showTitle": false,
     "title": ""
    }
   },
   "source": [
    "### Trials"
   ]
  },
  {
   "cell_type": "code",
   "execution_count": 0,
   "metadata": {
    "application/vnd.databricks.v1+cell": {
     "cellMetadata": {},
     "inputWidgets": {},
     "nuid": "fd980bbe-3f88-4525-abd2-162d1799a235",
     "showTitle": false,
     "title": ""
    }
   },
   "outputs": [],
   "source": [
    "def log_reg(log_reg_params):\n",
    "  log_model = LogisticRegression(**log_reg_params)\n",
    "\n",
    "  model = Pipeline([\n",
    "        (\"column_selector\", col_selector),\n",
    "        (\"preprocessor\", preprocessor),\n",
    "        (\"classifier\", log_model),\n",
    "  ])\n",
    "\n",
    "  model.fit(X_train, y_train)\n",
    "\n",
    "  y_pred_test = model.predict(X_test)\n",
    "\n",
    "  loss = recall_score(y_test, y_pred_test >= 0.3)\n",
    "\n",
    "  return {\n",
    "    'loss' : loss,\n",
    "    'status' : STATUS_OK,\n",
    "    'model_pipeline' : model,\n",
    "  }"
   ]
  },
  {
   "cell_type": "markdown",
   "metadata": {
    "application/vnd.databricks.v1+cell": {
     "cellMetadata": {},
     "inputWidgets": {},
     "nuid": "f2612b05-f7fd-409b-8cc3-95d067db4523",
     "showTitle": false,
     "title": ""
    }
   },
   "source": [
    "Use `SparkTrials()` for tuning along with the `hyperopt` module for fast trial iteration. Change back to `Trials()` after tuning.\n",
    "\n",
    "Increase `max_evals` to at least 50 for many iterations to acquire best parameters. Change back to lower evaluations after tuning."
   ]
  },
  {
   "cell_type": "code",
   "execution_count": 0,
   "metadata": {
    "application/vnd.databricks.v1+cell": {
     "cellMetadata": {},
     "inputWidgets": {},
     "nuid": "589a07c9-51d9-4460-92ae-fa248235a517",
     "showTitle": false,
     "title": ""
    }
   },
   "outputs": [],
   "source": [
    "trials = SparkTrials()\n",
    "\n",
    "best_hyperparams = fmin(fn = log_reg,\n",
    "                        space = log_reg_params,\n",
    "                        algo = tpe.suggest,\n",
    "                        max_evals = 1,\n",
    "                        show_progressbar = False,\n",
    "                        trials = trials)"
   ]
  },
  {
   "cell_type": "code",
   "execution_count": 0,
   "metadata": {
    "application/vnd.databricks.v1+cell": {
     "cellMetadata": {},
     "inputWidgets": {},
     "nuid": "0c4f2a8b-b70c-494d-a05f-07c34143cb2f",
     "showTitle": false,
     "title": ""
    }
   },
   "outputs": [],
   "source": [
    "best_result = trials.best_trial[\"result\"]\n",
    "model_pipeline = best_result[\"model_pipeline\"]\n",
    "model = model_pipeline['classifier']\n",
    "loss = best_result['loss']\n",
    "print('Recall: ', round(loss,6))\n",
    "model_pipeline"
   ]
  },
  {
   "cell_type": "markdown",
   "metadata": {
    "application/vnd.databricks.v1+cell": {
     "cellMetadata": {},
     "inputWidgets": {},
     "nuid": "4ec7ba56-3379-47e7-87f7-88a23be38208",
     "showTitle": false,
     "title": ""
    }
   },
   "source": [
    "## Feature importance"
   ]
  },
  {
   "cell_type": "markdown",
   "metadata": {
    "application/vnd.databricks.v1+cell": {
     "cellMetadata": {},
     "inputWidgets": {},
     "nuid": "0d742987-9873-4bfe-ab9a-53cc971943fa",
     "showTitle": false,
     "title": ""
    }
   },
   "source": [
    "Running `woe_map` to map the effects of the coefficients."
   ]
  },
  {
   "cell_type": "code",
   "execution_count": 0,
   "metadata": {
    "application/vnd.databricks.v1+cell": {
     "cellMetadata": {},
     "inputWidgets": {},
     "nuid": "489626b6-4d13-4dac-8942-964c602bc2a8",
     "showTitle": false,
     "title": ""
    }
   },
   "outputs": [],
   "source": [
    "woe_map = woe_map(supported_cols, pd.concat([y_train, X_train], axis=1), target_col)"
   ]
  },
  {
   "cell_type": "markdown",
   "metadata": {
    "application/vnd.databricks.v1+cell": {
     "cellMetadata": {},
     "inputWidgets": {},
     "nuid": "f232243c-f7e5-4351-8e2c-d88c5b474dbc",
     "showTitle": false,
     "title": ""
    }
   },
   "source": [
    "### Bar chart"
   ]
  },
  {
   "cell_type": "code",
   "execution_count": 0,
   "metadata": {
    "application/vnd.databricks.v1+cell": {
     "cellMetadata": {},
     "inputWidgets": {},
     "nuid": "67b5eea8-6ee7-41be-a1d4-070276ad1bd0",
     "showTitle": false,
     "title": ""
    }
   },
   "outputs": [],
   "source": [
    "feature_table = pd.DataFrame({\"features\":model_pipeline['preprocessor'].feature_names_in_,\n",
    "                           \"coefs\":abs(model.coef_[0])}).sort_values(\"coefs\")\n",
    "coef_table = pd.DataFrame({\"features\":model_pipeline['preprocessor'].feature_names_in_,\n",
    "                           \"coefs\":model.coef_[0]}).sort_values(\"coefs\")\n",
    "\n",
    "plt.figure(figsize=[8,12])\n",
    "plt.subplot(2,1,1)\n",
    "plt.title('Feature importance')\n",
    "plt.barh(feature_table['features'], feature_table['coefs'])\n",
    "plt.xlabel('Coefficient magnitude')\n",
    "plt.subplot(2,1,2)\n",
    "plt.title('Feature coefficients')\n",
    "plt.barh(coef_table['features'], coef_table['coefs'])\n",
    "plt.xlabel('Coefficient')\n",
    "plt.show()"
   ]
  },
  {
   "cell_type": "code",
   "execution_count": 0,
   "metadata": {
    "application/vnd.databricks.v1+cell": {
     "cellMetadata": {},
     "inputWidgets": {},
     "nuid": "e3ea7eae-5a51-42fd-a370-6b0371cc44ef",
     "showTitle": false,
     "title": ""
    }
   },
   "outputs": [],
   "source": [
    "index = 0\n",
    "print(supported_cols[index])\n",
    "woe_map[supported_cols[index]]"
   ]
  },
  {
   "cell_type": "code",
   "execution_count": 0,
   "metadata": {
    "application/vnd.databricks.v1+cell": {
     "cellMetadata": {},
     "inputWidgets": {},
     "nuid": "3f006dc4-cd36-4527-874a-cd70279360e5",
     "showTitle": false,
     "title": ""
    }
   },
   "outputs": [],
   "source": [
    "coef_table.sort_index()"
   ]
  },
  {
   "cell_type": "markdown",
   "metadata": {
    "application/vnd.databricks.v1+cell": {
     "cellMetadata": {},
     "inputWidgets": {},
     "nuid": "7defea2c-60ff-4d88-bafd-712f153e905b",
     "showTitle": false,
     "title": ""
    }
   },
   "source": [
    "### Feature inference"
   ]
  },
  {
   "cell_type": "markdown",
   "metadata": {
    "application/vnd.databricks.v1+cell": {
     "cellMetadata": {},
     "inputWidgets": {},
     "nuid": "c4a7df0e-c0b8-423f-9789-60e66ad61991",
     "showTitle": false,
     "title": ""
    }
   },
   "source": [
    "**with_depo_open**\n",
    "* 0 - not likely to default\n",
    "* 1 - likely to default \n",
    "\n",
    "**with_loan_ind**\n",
    "* 0 - not likely to default\n",
    "* 1 - likely to default\n",
    "\n",
    "**avg_casa_adb_l180d**\n",
    "* `< 150,000` - not likely to default\n",
    "* `> 150,000` - likely to default\n",
    "\n",
    "**avg_casa_trans_l180d**\n",
    "* `> 14,000` - not likely to default\n",
    "* `< 14,000` - likely to default\n",
    "\n",
    "**avg_ror_trans_l180d**\n",
    "* `> 10,000` - not likely to default\n",
    "* `< 10,000` - likely to default\n",
    "\n",
    "**products_count**\n",
    "* `> 2` - not likely to default\n",
    "* `< 2` - likely to default\n",
    "\n",
    "**num_yrs_in_company**\n",
    "* `> 7` - not likely to default\n",
    "* `< 7` - likely to default\n",
    "\n",
    "**avg_ror_trans_l180d_bp**\n",
    "* `> 7,000` - not likely to default\n",
    "* `< 7,000` - likely to default\n",
    "\n",
    "**num_children**\n",
    "* 1+ - not likely to default\n",
    "* 0 - likely to default\n",
    "\n",
    "**balance_ytd**\n",
    "* `> 47,000` - not likely to default\n",
    "* `< 47,000` - likely to default"
   ]
  },
  {
   "cell_type": "markdown",
   "metadata": {
    "application/vnd.databricks.v1+cell": {
     "cellMetadata": {},
     "inputWidgets": {},
     "nuid": "3aa28db1-3141-47aa-9c4f-2a18a7fe50c0",
     "showTitle": false,
     "title": ""
    }
   },
   "source": [
    "### Variance Inflation Factor"
   ]
  },
  {
   "cell_type": "code",
   "execution_count": 0,
   "metadata": {
    "application/vnd.databricks.v1+cell": {
     "cellMetadata": {},
     "inputWidgets": {},
     "nuid": "e39aef2d-36f1-4659-bff9-43e4374c2c3c",
     "showTitle": false,
     "title": ""
    }
   },
   "outputs": [],
   "source": [
    "X_train_transformed = pd.DataFrame(model_pipeline['preprocessor'].transform(X_train))\n",
    "X_test_transformed = pd.DataFrame(model_pipeline['preprocessor'].transform(X_test))\n",
    "X_train_transformed.columns = supported_cols\n",
    "X_test_transformed.columns = supported_cols\n",
    "\n",
    "vif_data = pd.DataFrame() \n",
    "vif_data[\"feature\"] = supported_cols \n",
    "\n",
    "vif_data[\"VIF\"] = [vif(X_train_transformed.values, i) for i in range(len(supported_cols))] \n",
    "vif_data"
   ]
  },
  {
   "cell_type": "markdown",
   "metadata": {
    "application/vnd.databricks.v1+cell": {
     "cellMetadata": {},
     "inputWidgets": {},
     "nuid": "84bc7bef-4f88-4ebc-8c20-305895b6b2bb",
     "showTitle": false,
     "title": ""
    }
   },
   "source": [
    "### SHAP Values Plot"
   ]
  },
  {
   "cell_type": "code",
   "execution_count": 0,
   "metadata": {
    "application/vnd.databricks.v1+cell": {
     "cellMetadata": {},
     "inputWidgets": {},
     "nuid": "9302fd85-55ad-4e18-9346-f647fd869f69",
     "showTitle": false,
     "title": ""
    }
   },
   "outputs": [],
   "source": [
    "# X_train_sample = shap.sample(X_train, 200)\n",
    "# X_test_sample = shap.sample(X_test, 200)\n",
    "# predict = lambda x: model_pipeline.predict(pd.DataFrame(x, columns=X_train_sample.columns))\n",
    "# explainer = shap.KernelExplainer(predict, X_train_sample, link='identity')\n",
    "# shap_values = explainer.shap_values(X_test_sample, l1_reg=False)\n",
    "\n",
    "linear_explainer = shap.LinearExplainer(model, X_train_transformed)\n",
    "linear_shap_vals = linear_explainer(X_test_transformed)"
   ]
  },
  {
   "cell_type": "code",
   "execution_count": 0,
   "metadata": {
    "application/vnd.databricks.v1+cell": {
     "cellMetadata": {},
     "inputWidgets": {},
     "nuid": "1da91193-7dda-4353-b373-7b6a49dd6c0d",
     "showTitle": false,
     "title": ""
    }
   },
   "outputs": [],
   "source": [
    "shap.plots.beeswarm(linear_shap_vals, max_display=15)"
   ]
  },
  {
   "cell_type": "code",
   "execution_count": 0,
   "metadata": {
    "application/vnd.databricks.v1+cell": {
     "cellMetadata": {},
     "inputWidgets": {},
     "nuid": "7b77a6b7-2528-4fbe-8786-6d73e3f80955",
     "showTitle": false,
     "title": ""
    }
   },
   "outputs": [],
   "source": [
    "# summary_plot(shap_values, X_test_sample, class_names=model.classes_, max_display=20, plot_type='bar')"
   ]
  },
  {
   "cell_type": "code",
   "execution_count": 0,
   "metadata": {
    "application/vnd.databricks.v1+cell": {
     "cellMetadata": {},
     "inputWidgets": {},
     "nuid": "d03988c2-2184-4851-acb1-900aed166e5e",
     "showTitle": false,
     "title": ""
    }
   },
   "outputs": [],
   "source": [
    "# shap.plots.waterfall(linear_shap_vals[0])"
   ]
  },
  {
   "cell_type": "markdown",
   "metadata": {
    "application/vnd.databricks.v1+cell": {
     "cellMetadata": {},
     "inputWidgets": {},
     "nuid": "079d53d3-a94d-4334-b209-4462ebeca2d1",
     "showTitle": false,
     "title": ""
    }
   },
   "source": [
    "### Recursive Feature Elimination"
   ]
  },
  {
   "cell_type": "code",
   "execution_count": 0,
   "metadata": {
    "application/vnd.databricks.v1+cell": {
     "cellMetadata": {},
     "inputWidgets": {},
     "nuid": "27e45900-2b75-44ca-ab7e-92ba9a6ea38d",
     "showTitle": false,
     "title": ""
    }
   },
   "outputs": [],
   "source": [
    "# best_features(X_train_transformed, y_train, model, 10)"
   ]
  },
  {
   "cell_type": "markdown",
   "metadata": {
    "application/vnd.databricks.v1+cell": {
     "cellMetadata": {},
     "inputWidgets": {},
     "nuid": "9c5161fc-a4c5-45e2-9fc6-e3ff0b4be289",
     "showTitle": false,
     "title": ""
    }
   },
   "source": [
    "## Inference\n",
    "\n",
    "Evaluating the model using KS score and model diagnostics."
   ]
  },
  {
   "cell_type": "code",
   "execution_count": 0,
   "metadata": {
    "application/vnd.databricks.v1+cell": {
     "cellMetadata": {},
     "inputWidgets": {},
     "nuid": "dc59015a-20d8-4860-8b8c-4c5e0aed41e0",
     "showTitle": false,
     "title": ""
    }
   },
   "outputs": [],
   "source": [
    "y_pred_train_prob_event = pd.DataFrame(model_pipeline.predict_proba(X_train)).loc[:,1]\n",
    "y_pred_test_prob_event = pd.DataFrame(model_pipeline.predict_proba(X_test)).loc[:,1]"
   ]
  },
  {
   "cell_type": "markdown",
   "metadata": {
    "application/vnd.databricks.v1+cell": {
     "cellMetadata": {},
     "inputWidgets": {},
     "nuid": "80bfe601-0d2b-4ef1-8d3e-18a6888337b7",
     "showTitle": false,
     "title": ""
    }
   },
   "source": [
    "#### Training set"
   ]
  },
  {
   "cell_type": "code",
   "execution_count": 0,
   "metadata": {
    "application/vnd.databricks.v1+cell": {
     "cellMetadata": {},
     "inputWidgets": {},
     "nuid": "c3681f0f-2c3a-4f7d-821c-03a1eb34b21d",
     "showTitle": false,
     "title": ""
    }
   },
   "outputs": [],
   "source": [
    "train_cutoff, train_evaluation = evaluateBinaryClassifier(y_pred_train_prob_event, y_train, y_pred_train_prob_event, save=False, filename='validation.csv', setCutoff=False, new_data=False, probCutoff=0.5)\n",
    "\n",
    "train_evaluation"
   ]
  },
  {
   "cell_type": "markdown",
   "metadata": {
    "application/vnd.databricks.v1+cell": {
     "cellMetadata": {},
     "inputWidgets": {},
     "nuid": "77ae799d-573d-4200-b062-97571894e4dd",
     "showTitle": false,
     "title": ""
    }
   },
   "source": [
    "#### Test set evaluation"
   ]
  },
  {
   "cell_type": "code",
   "execution_count": 0,
   "metadata": {
    "application/vnd.databricks.v1+cell": {
     "cellMetadata": {},
     "inputWidgets": {},
     "nuid": "8ab201b6-ddeb-4fb6-9505-d01506548c6d",
     "showTitle": false,
     "title": ""
    }
   },
   "outputs": [],
   "source": [
    "test_evaluation = evaluateBinaryClassifier(y_pred_test_prob_event, y_test, y_pred_train_prob_event, save=False, filename='validation.csv', setCutoff=True, new_data=True, probCutoff=train_cutoff)\n",
    "\n",
    "test_evaluation"
   ]
  },
  {
   "cell_type": "markdown",
   "metadata": {
    "application/vnd.databricks.v1+cell": {
     "cellMetadata": {},
     "inputWidgets": {},
     "nuid": "fea8b5c8-c026-432a-b189-3c4f64a74fac",
     "showTitle": false,
     "title": ""
    }
   },
   "source": [
    "#### Metrics"
   ]
  },
  {
   "cell_type": "code",
   "execution_count": 0,
   "metadata": {
    "application/vnd.databricks.v1+cell": {
     "cellMetadata": {},
     "inputWidgets": {},
     "nuid": "144a8de9-828c-468f-8aa7-9fd38d44aaa4",
     "showTitle": false,
     "title": ""
    }
   },
   "outputs": [],
   "source": [
    "cm_train, train_metrics = model_diagnostics(y_pred_train_prob_event, y_train, train_cutoff)\n",
    "cm_test, test_metrics = model_diagnostics(y_pred_test_prob_event, y_test, train_cutoff)\n",
    "\n",
    "model_metrics = pd.DataFrame({'train' : train_metrics, 'test' : test_metrics})\n",
    "model_metrics"
   ]
  },
  {
   "cell_type": "markdown",
   "metadata": {
    "application/vnd.databricks.v1+cell": {
     "cellMetadata": {},
     "inputWidgets": {},
     "nuid": "55f05891-592d-48aa-82bd-2bffc185fbb7",
     "showTitle": false,
     "title": ""
    }
   },
   "source": [
    "## OOT testing"
   ]
  },
  {
   "cell_type": "code",
   "execution_count": 0,
   "metadata": {
    "application/vnd.databricks.v1+cell": {
     "cellMetadata": {},
     "inputWidgets": {},
     "nuid": "f69abff7-2329-44d2-aa5a-0dbe4eb7ce03",
     "showTitle": false,
     "title": ""
    }
   },
   "outputs": [],
   "source": [
    "df_loaded_oot = spark.table('dsag_legacy_catalog.proj_pltodepo.aiml_fss_pl_depo_cross_sell_02_modeling_base_oot').toPandas()\n",
    "df_transformed_oot = df_loaded_oot[all_cols].copy()\n",
    "df_transformed_oot"
   ]
  },
  {
   "cell_type": "code",
   "execution_count": 0,
   "metadata": {
    "application/vnd.databricks.v1+cell": {
     "cellMetadata": {},
     "inputWidgets": {},
     "nuid": "cd3f0af9-dac1-430d-825d-bee78d19d95b",
     "showTitle": false,
     "title": ""
    }
   },
   "outputs": [],
   "source": [
    "X_oot = df_transformed_oot.drop(target_col, axis=1)\n",
    "y_oot = df_transformed_oot[target_col]\n",
    "y_pred_oot_prob_event = pd.DataFrame(model_pipeline.predict_proba(X_oot)).loc[:,1]"
   ]
  },
  {
   "cell_type": "code",
   "execution_count": 0,
   "metadata": {
    "application/vnd.databricks.v1+cell": {
     "cellMetadata": {},
     "inputWidgets": {},
     "nuid": "6daeba7e-1b79-48b5-9da0-770f5bb12ab8",
     "showTitle": false,
     "title": ""
    }
   },
   "outputs": [],
   "source": [
    "oot_evaluation = evaluateBinaryClassifier(y_pred_oot_prob_event, y_oot, y_pred_train_prob_event, save=False, filename='validation.csv', setCutoff=True, new_data=True, probCutoff=train_cutoff)\n",
    "\n",
    "oot_evaluation"
   ]
  },
  {
   "cell_type": "markdown",
   "metadata": {
    "application/vnd.databricks.v1+cell": {
     "cellMetadata": {},
     "inputWidgets": {},
     "nuid": "d0091c3b-b8d8-4904-ae9b-5ddd547eb3fc",
     "showTitle": false,
     "title": ""
    }
   },
   "source": [
    "### Final Metrics"
   ]
  },
  {
   "cell_type": "code",
   "execution_count": 0,
   "metadata": {
    "application/vnd.databricks.v1+cell": {
     "cellMetadata": {},
     "inputWidgets": {},
     "nuid": "4a9325dc-4f35-4164-85b2-103b43bd9f85",
     "showTitle": false,
     "title": ""
    }
   },
   "outputs": [],
   "source": [
    "cm_oot, oot_score = model_diagnostics(y_pred_oot_prob_event, y_oot, train_cutoff)\n",
    "model_metrics['OOT'] = oot_score\n",
    "model_metrics"
   ]
  },
  {
   "cell_type": "markdown",
   "metadata": {
    "application/vnd.databricks.v1+cell": {
     "cellMetadata": {},
     "inputWidgets": {},
     "nuid": "471dc5e9-4c3d-4487-b63a-00f8d96f3684",
     "showTitle": false,
     "title": ""
    }
   },
   "source": [
    "## In-time vs OOT PSI comparison"
   ]
  },
  {
   "cell_type": "code",
   "execution_count": 0,
   "metadata": {
    "application/vnd.databricks.v1+cell": {
     "cellMetadata": {},
     "inputWidgets": {},
     "nuid": "e950a646-cba6-4df9-8231-e605c51ff939",
     "showTitle": false,
     "title": ""
    }
   },
   "outputs": [],
   "source": [
    "psi_table(X_train, X_oot)"
   ]
  },
  {
   "cell_type": "code",
   "execution_count": 0,
   "metadata": {
    "application/vnd.databricks.v1+cell": {
     "cellMetadata": {},
     "inputWidgets": {},
     "nuid": "d0cfd763-38a1-47d5-a7fa-2742658301c8",
     "showTitle": false,
     "title": ""
    }
   },
   "outputs": [],
   "source": [
    "psi_table(features, X_oot)"
   ]
  },
  {
   "cell_type": "code",
   "execution_count": 0,
   "metadata": {
    "application/vnd.databricks.v1+cell": {
     "cellMetadata": {},
     "inputWidgets": {},
     "nuid": "8c995941-c6bf-4b26-99cd-5180e01ccfd0",
     "showTitle": false,
     "title": ""
    }
   },
   "outputs": [],
   "source": [
    "psi_table(X_train, X_test)"
   ]
  },
  {
   "cell_type": "markdown",
   "metadata": {
    "application/vnd.databricks.v1+cell": {
     "cellMetadata": {},
     "inputWidgets": {},
     "nuid": "714af276-31ee-4cab-83fd-d1958ee6c2cf",
     "showTitle": false,
     "title": ""
    }
   },
   "source": [
    "## Exporting final model"
   ]
  },
  {
   "cell_type": "code",
   "execution_count": 0,
   "metadata": {
    "application/vnd.databricks.v1+cell": {
     "cellMetadata": {},
     "inputWidgets": {},
     "nuid": "5dedeee3-1947-48b9-83af-aa19178a87da",
     "showTitle": false,
     "title": ""
    }
   },
   "outputs": [],
   "source": [
    "joblib.dump(model_pipeline, \"model_logreg_pipeline.pkl\")"
   ]
  },
  {
   "cell_type": "code",
   "execution_count": 0,
   "metadata": {
    "application/vnd.databricks.v1+cell": {
     "cellMetadata": {},
     "inputWidgets": {},
     "nuid": "9ff91783-81ae-4dd8-8594-4e8a58f017da",
     "showTitle": false,
     "title": ""
    }
   },
   "outputs": [],
   "source": [
    "model_test = joblib.load(\"model_pipeline_test.pkl\")"
   ]
  },
  {
   "cell_type": "code",
   "execution_count": 0,
   "metadata": {
    "application/vnd.databricks.v1+cell": {
     "cellMetadata": {},
     "inputWidgets": {},
     "nuid": "8c7fb22b-fc61-4d2c-b9dc-54bb34ae778b",
     "showTitle": false,
     "title": ""
    }
   },
   "outputs": [],
   "source": [
    "model_test.predict(df_transformed_oot)"
   ]
  },
  {
   "cell_type": "code",
   "execution_count": 0,
   "metadata": {
    "application/vnd.databricks.v1+cell": {
     "cellMetadata": {},
     "inputWidgets": {},
     "nuid": "93798de3-c77b-48bd-978b-474dfa126004",
     "showTitle": false,
     "title": ""
    }
   },
   "outputs": [],
   "source": [
    "model_test"
   ]
  }
 ],
 "metadata": {
  "application/vnd.databricks.v1+notebook": {
   "dashboards": [],
   "language": "python",
   "notebookMetadata": {
    "pythonIndentUnit": 4
   },
   "notebookName": "03 Modeling (Log Reg Pipeline)",
   "widgets": {}
  }
 },
 "nbformat": 4,
 "nbformat_minor": 0
}
